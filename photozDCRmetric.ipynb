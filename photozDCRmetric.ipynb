{
 "cells": [
  {
   "cell_type": "code",
   "execution_count": 1,
   "metadata": {
    "collapsed": false
   },
   "outputs": [
    {
     "ename": "ImportError",
     "evalue": "No module named lsst.sims.maf.metrics",
     "output_type": "error",
     "traceback": [
      "\u001b[0;31m---------------------------------------------------------------------------\u001b[0m",
      "\u001b[0;31mImportError\u001b[0m                               Traceback (most recent call last)",
      "\u001b[0;32m<ipython-input-1-ded0698d3d8b>\u001b[0m in \u001b[0;36m<module>\u001b[0;34m()\u001b[0m\n\u001b[0;32m----> 1\u001b[0;31m \u001b[0;32mfrom\u001b[0m \u001b[0mlsst\u001b[0m\u001b[0;34m.\u001b[0m\u001b[0msims\u001b[0m\u001b[0;34m.\u001b[0m\u001b[0mmaf\u001b[0m\u001b[0;34m.\u001b[0m\u001b[0mmetrics\u001b[0m \u001b[0;32mimport\u001b[0m \u001b[0mBaseMetric\u001b[0m\u001b[0;34m\u001b[0m\u001b[0m\n\u001b[0m\u001b[1;32m      2\u001b[0m \u001b[0;32mimport\u001b[0m \u001b[0mastrometry_defs\u001b[0m \u001b[0;32mas\u001b[0m \u001b[0mastr\u001b[0m\u001b[0;34m\u001b[0m\u001b[0m\n\u001b[1;32m      3\u001b[0m \u001b[0;32mimport\u001b[0m \u001b[0mnumpy\u001b[0m \u001b[0;32mas\u001b[0m \u001b[0mnp\u001b[0m\u001b[0;34m\u001b[0m\u001b[0m\n\u001b[1;32m      4\u001b[0m \u001b[0;32mfrom\u001b[0m \u001b[0mscipy\u001b[0m \u001b[0;32mimport\u001b[0m \u001b[0mstats\u001b[0m\u001b[0;34m\u001b[0m\u001b[0m\n\u001b[1;32m      5\u001b[0m \u001b[0;32mfrom\u001b[0m \u001b[0mastropy\u001b[0m\u001b[0;34m.\u001b[0m\u001b[0mtable\u001b[0m \u001b[0;32mimport\u001b[0m \u001b[0mTable\u001b[0m\u001b[0;34m\u001b[0m\u001b[0m\n",
      "\u001b[0;31mImportError\u001b[0m: No module named lsst.sims.maf.metrics"
     ]
    }
   ],
   "source": [
    "from lsst.sims.maf.metrics import BaseMetric\n",
    "import astrometry_defs as astr\n",
    "import numpy as np\n",
    "from scipy import stats\n",
    "from astropy.table import Table\n",
    "from sklearn.model_selection import train_test_split, cross_val_predict\n",
    "from sklearn.metrics import classification_report\n",
    "from astroML.linear_model import NadarayaWatson\n",
    "\n",
    "class DCRphotozMetric(BaseMetric):\n",
    "\tdef __init__(self, metricName='DCRphotoz', **kwargs): \n",
    "\t\t#define column names from opsim that will be available to use in run() \n",
    "\t\tself.AMcol = 'airmass' #airmass distrib for sky healpixel\n",
    "\t\tself.Fcol = 'filter' #band filters (u, g, r, i, z, etc.)\n",
    "\t\tcols = [self.AMcol, self.Fcol] \n",
    "\t\t#call BaseMetric's __init__ to get basic metric functionality down\n",
    "\t\tsuper(DCRphotozMetric, self).__init__(col=cols, metricName=metricName, **kwargs) \n",
    "\t#run() defines what the metric does at each healpix, dataSlice is the opsim table info for each healpixel\n",
    "\tdef run(self, dataSlice, slicePoint=None):\n",
    "\t\tdata = Table.read('mastertrainingmatch.fits') #read in quasar data\n",
    "\t\t#cut out negative fluxes in each filter band\n",
    "\t\tmask = ( (data['PSFFLUX'][:,0]>0) & (data['PSFFLUX'][:,1]>0) & (data['PSFFLUX'][:,2]>0) & (data['PSFFLUX'][:,3]>0) & (data['PSFFLUX'][:,4]>0)  ) \n",
    "\t\tdata = data[mask]\n",
    "\t\t#array for holding dcr slopes\n",
    "\t\ttempDCRarray = [] \n",
    "\t\t#calculate DCR slope for each object in our table\n",
    "\t\tfor x in data['ZSPEC_1']: \n",
    "\t\t\t#calculate tangent of zenith angle and parallactic offset (tan(Z) and R)\n",
    "\t\t\ttanZList, RList = astr.calcR(dataSlice[self.AMcol], dataSlice[self.Fcol], zshift = x)\n",
    "\t\t\t#calculate a slope and store in tempDCRarray\n",
    "\t\t\tslope, intercept, r_value, p_value, std_err = stats.linregress(tanZList, RList)\n",
    "\t\t\ttempDCRarray.append(slope)\n",
    "\t\t#add the column of DCR slopes into our table\n",
    "\t\tdata['DCRSLOPE'] = tempDCRarray\n",
    "\t\t#this just makes sure all the columns are correctly formatted for vstack\n",
    "\t\tdata = data.filled() \n",
    "\t\t#colors data, properly formatted\n",
    "\t\tX = np.vstack([ data['ug'], data['gr'], data['ri'], data['iz'], data['zs1'], data['s1s2'] ]).T\n",
    "\t\t#spectroscopic redshift, properly formatted\n",
    "\t\ty = np.array(data['ZSPEC_1'])\n",
    "\t\t#split data into 80 percent training, 20 percent testing\n",
    "\t\tX_train, X_test, y_train, y_test = train_test_split(X, y, test_size = 0.2, random_state=73)\n",
    "\t\t#setup NW model w/ gaussian kernel and kernel width 0.05\n",
    "\t\tmodel1 = NadarayaWatson('gaussian', 0.05) \n",
    "\t\tmodel1.fit(X_train, y_train) #fit model to training set\n",
    "\t\tpred1 = model1.predict(X_test) #predict based on fit\n",
    "\t\t#do a test to see what fraction of points are within 0.1 of being correctly predicted\n",
    "\t\t#total # of points\n",
    "\t\tn = len(pred1)\n",
    "\t\t#is the difference between prediction and actual <0.1?\n",
    "\t\tmask13 = (np.abs(pred1 - y_test)<0.1)\n",
    "\t\t#number of points that are within 0.1 of actual value\n",
    "\t\tm13 = len(pred1[mask13])\n",
    "\t\tfrac13 = 1.0*m13/n #fraction of all points within 0.1 of actual answer\n",
    "\t\t#colors and DCR, properly formatted\n",
    "\t\tX2 = np.vstack([ data['ug'], data['gr'], data['ri'], data['iz'], data['zs1'], data['s1s2'], data['DCRSLOPE'] ]).T \n",
    "\t\ty2 = np.array(data['ZSPEC_1']) #potentially unnecessary, given existence of y\n",
    "\t\t#same split as above, so the 4 sets of objects are identical\n",
    "\t\tX2_train, X2_test, y2_train, y2_test = train_test_split(X2, y2, test_size=0.2, random_state=73)\n",
    "\t\tmodel2 = NadarayaWatson('gaussian', 0.05) #potentially unnecessary, given existence of model1, not sure if model's can be refit safely\n",
    "\t\t#fit to new training sets\n",
    "\t\tmodel2.fit(X2_train, y2_train)\n",
    "\t\tpred2 = model2.predict(X2_test)\n",
    "\t\t#same test as above, measure how many predictions are within 0.1\n",
    "\t\tn = len(pred2)\n",
    "\t\tmask23 = (np.abs(pred2- y2_test)<0.1)\n",
    "\t\tm23 = len(pred2[mask23])\n",
    "\t\tfrac23 = 1.0*m23/n\n",
    "\t\t#fraction of points that moved into within 0.1 w/ DCR training\n",
    "\t\timprove = frac23 - frac13 \n",
    "\t\treturn improve\n"
   ]
  },
  {
   "cell_type": "code",
   "execution_count": null,
   "metadata": {
    "collapsed": true
   },
   "outputs": [],
   "source": []
  }
 ],
 "metadata": {
  "kernelspec": {
   "display_name": "Python 2",
   "language": "python",
   "name": "python2"
  },
  "language_info": {
   "codemirror_mode": {
    "name": "ipython",
    "version": 2
   },
   "file_extension": ".py",
   "mimetype": "text/x-python",
   "name": "python",
   "nbconvert_exporter": "python",
   "pygments_lexer": "ipython2",
   "version": "2.7.13"
  }
 },
 "nbformat": 4,
 "nbformat_minor": 2
}
